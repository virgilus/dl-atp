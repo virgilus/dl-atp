{
 "cells": [
  {
   "cell_type": "markdown",
   "id": "a5e09f3f-6484-48f5-8837-b490e572beee",
   "metadata": {},
   "source": [
    "# Hugging Face"
   ]
  },
  {
   "cell_type": "markdown",
   "id": "4d9d991b-5021-4d1e-97a7-6bee44af6ddc",
   "metadata": {},
   "source": [
    "Hugging Face is a Franco-American platform specialized in providing models.\n",
    "\n",
    "Originally focused on Natural Language Processing (NLP), it has also expanded to any type of pre-trained models."
   ]
  },
  {
   "cell_type": "code",
   "execution_count": null,
   "id": "2780140c-b12f-4802-b1b4-ebb3fddc92ee",
   "metadata": {
    "tags": []
   },
   "outputs": [],
   "source": [
    "%pip install transformers"
   ]
  },
  {
   "cell_type": "code",
   "execution_count": null,
   "id": "684281a5-5dea-4a2c-ab41-ea154cc2f7a5",
   "metadata": {
    "tags": []
   },
   "outputs": [],
   "source": [
    "%pip install torchvision"
   ]
  },
  {
   "cell_type": "code",
   "execution_count": null,
   "id": "152beb94-e8c3-494b-b87b-a3d180174415",
   "metadata": {
    "tags": []
   },
   "outputs": [],
   "source": [
    "# https://huggingface.co/dandelin/vilt-b32-finetuned-vqa\n",
    "from transformers import ViltProcessor, ViltForQuestionAnswering\n",
    "import requests\n",
    "from PIL import Image\n",
    "\n",
    "# prepare image + question\n",
    "url = \"http://images.cocodataset.org/val2017/000000039769.jpg\"\n",
    "url = \"https://i.stack.imgur.com/o1z7p.jpg\"\n",
    "image = Image.open(requests.get(url, stream=True).raw)\n",
    "text = \"What is the girl's name?\"\n",
    "\n",
    "processor = ViltProcessor.from_pretrained(\"dandelin/vilt-b32-finetuned-vqa\")\n",
    "model = ViltForQuestionAnswering.from_pretrained(\"dandelin/vilt-b32-finetuned-vqa\")\n",
    "\n",
    "# prepare inputs\n",
    "encoding = processor(image, text, return_tensors=\"pt\")\n",
    "\n",
    "# forward pass\n",
    "outputs = model(**encoding)\n",
    "logits = outputs.logits\n",
    "idx = logits.argmax(-1).item()\n",
    "print(\"Predicted answer:\", model.config.id2label[idx])"
   ]
  }
 ],
 "metadata": {
  "kernelspec": {
   "display_name": "Python 3 (ipykernel)",
   "language": "python",
   "name": "python3"
  },
  "language_info": {
   "codemirror_mode": {
    "name": "ipython",
    "version": 3
   },
   "file_extension": ".py",
   "mimetype": "text/x-python",
   "name": "python",
   "nbconvert_exporter": "python",
   "pygments_lexer": "ipython3",
   "version": "3.11.0"
  }
 },
 "nbformat": 4,
 "nbformat_minor": 5
}
